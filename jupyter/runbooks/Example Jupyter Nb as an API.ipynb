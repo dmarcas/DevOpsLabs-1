{
 "cells": [
  {
   "cell_type": "markdown",
   "metadata": {},
   "source": [
    "# DevOps Lab: Jupyter Notebook as an API book"
   ]
  },
  {
   "cell_type": "markdown",
   "metadata": {},
   "source": [
    "## Installation"
   ]
  },
  {
   "cell_type": "markdown",
   "metadata": {},
   "source": [
    "**Assumptions**: Jupyter already installed in your server.\n",
    "\n",
    "First install the kernel_gateway:"
   ]
  },
  {
   "cell_type": "markdown",
   "metadata": {},
   "source": [
    "*pip install jupyter_kernel_gateway*\n",
    "\n",
    "*jupyter kernelgateway --generate-config*"
   ]
  },
  {
   "cell_type": "markdown",
   "metadata": {},
   "source": [
    "If you want your api to be accessible from other computers, edit the ~/.jupyter/jupyter_kernel_gateway_config.py file.\n",
    "\n",
    "And change the line \"# c.KernelGatewayApp.ip = '127.0.0.1'\"\n",
    "with \"c.KernelGatewayApp.ip = '*'\", uncommented."
   ]
  },
  {
   "cell_type": "markdown",
   "metadata": {},
   "source": [
    "## API Code"
   ]
  },
  {
   "cell_type": "markdown",
   "metadata": {},
   "source": [
    "Prepare the notebook to be an API for example.\n",
    "The next cell will be executed with all the initialization that are required for the process"
   ]
  },
  {
   "cell_type": "code",
   "execution_count": 1,
   "metadata": {},
   "outputs": [],
   "source": [
    "import math\n",
    "import json"
   ]
  },
  {
   "cell_type": "code",
   "execution_count": null,
   "metadata": {},
   "outputs": [],
   "source": [
    "# GET /convert\n",
    "req = json.loads(REQUEST)\n",
    "args = req['args']\n",
    "\n",
    "if 'angle' not in args:\n",
    "  print(json.dumps({'convertedAngle': None}))\n",
    "else:\n",
    "  # Note the [0] when retrieving the argument.\n",
    "  # This is because you could potentially pass multiple angles.\n",
    "  angle = int(args['angle'][0])\n",
    "  converted = math.radians(angle)\n",
    "  print(json.dumps({'convertedAngle': converted})"
   ]
  }
 ],
 "metadata": {
  "kernelspec": {
   "display_name": "Python 3",
   "language": "python",
   "name": "python3"
  },
  "language_info": {
   "codemirror_mode": {
    "name": "ipython",
    "version": 3
   },
   "file_extension": ".py",
   "mimetype": "text/x-python",
   "name": "python",
   "nbconvert_exporter": "python",
   "pygments_lexer": "ipython3",
   "version": "3.7.6"
  }
 },
 "nbformat": 4,
 "nbformat_minor": 4
}
