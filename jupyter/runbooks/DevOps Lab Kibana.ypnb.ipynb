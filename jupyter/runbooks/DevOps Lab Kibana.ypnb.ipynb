{
 "cells": [
  {
   "cell_type": "markdown",
   "metadata": {},
   "source": [
    "# Experto Universitario DevOps\n",
    "## DevOps Lab for Runbook\n",
    "### Example: Kibana Runbook\n",
    "\n",
    "**Objective**:\n",
    "Run this runbook to ckeck if kibana is running or not, and fix it\n",
    "\n",
    "**Steps to ckeck**:\n",
    "1. Connect to system\n",
    "2. Verify if Kibana is running executing \"kibana status\" as a admin user (\"service\" user in our case)"
   ]
  },
  {
   "cell_type": "code",
   "execution_count": null,
   "metadata": {},
   "outputs": [],
   "source": [
    "%bash\n",
    "STATUS_SCRIPT=\"sudo service kibana status\"\n",
    "ssh -i ~/.ssh/ec2_jlg.pem ec2-user@5.2.3.1 \"${STATUS_SCRIPT}\""
   ]
  },
  {
   "cell_type": "markdown",
   "metadata": {},
   "source": [
    "**Steps to fix**:\n",
    "1. Connect to system\n",
    "2. Restart Kibana executing \"kibana restart\" as a admin user (\"service\" user in our case)\n",
    "3. Verify if it is now running OK"
   ]
  },
  {
   "cell_type": "code",
   "execution_count": null,
   "metadata": {},
   "outputs": [],
   "source": [
    "%bash\n",
    "STATUS_SCRIPT=\"sudo service kibana status\"\n",
    "RESTART_SCRIPT=\"sudo service kibana restart\"\n",
    "ssh -i ~/.ssh/ec2_jlg.pem ec2-user@5.2.3.1 \"${RESTART_SCRIPT} & ${STATUS_SCRIPT}\""
   ]
  }
 ],
 "metadata": {
  "kernelspec": {
   "display_name": "Python 3",
   "language": "python",
   "name": "python3"
  },
  "language_info": {
   "codemirror_mode": {
    "name": "ipython",
    "version": 3
   },
   "file_extension": ".py",
   "mimetype": "text/x-python",
   "name": "python",
   "nbconvert_exporter": "python",
   "pygments_lexer": "ipython3",
   "version": "3.7.6"
  }
 },
 "nbformat": 4,
 "nbformat_minor": 4
}
