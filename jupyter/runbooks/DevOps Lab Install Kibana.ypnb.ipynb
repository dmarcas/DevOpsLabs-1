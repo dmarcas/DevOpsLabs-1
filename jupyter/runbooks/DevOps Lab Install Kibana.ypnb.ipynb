{
 "cells": [
  {
   "cell_type": "markdown",
   "metadata": {},
   "source": [
    "# Experto Universitario DevOps\n",
    "## DevOps Lab for Runbook"
   ]
  },
  {
   "cell_type": "markdown",
   "metadata": {},
   "source": [
    "### Example: Install Jupyter Runbook\n",
    "\n",
    "**Objective**:\n",
    "Run this runbook to install a fresh Jupyter installation\n",
    "\n",
    "**Steps to ckeck**:\n",
    "1. Connect to system\n",
    "2. Verify if Jupyter is installed\n"
   ]
  },
  {
   "cell_type": "code",
   "execution_count": null,
   "metadata": {},
   "outputs": [],
   "source": [
    "%%bash\n",
    "STATUS_SCRIPT=\"sudo \"\n",
    "ssh -i ~/.ssh/ec2_jlg.pem ec2-user@5.2.3.1 \"${STATUS_SCRIPT}\""
   ]
  },
  {
   "cell_type": "markdown",
   "metadata": {},
   "source": [
    "**Steps to install**:\n",
    "1. Connect to system\n",
    "2. Install Kibana using pip\n",
    "3. Verify if Kibana is running"
   ]
  },
  {
   "cell_type": "code",
   "execution_count": null,
   "metadata": {},
   "outputs": [],
   "source": [
    "%%bash\n",
    "STATUS_SCRIPT=\"sudo service-user kibana status\"\n",
    "INSTALL_SCRIPT=\"pip install kibana\"\n",
    "ssh -i ~/.ssh/h/ec2_jlg.pem ec2-user@5.2.3.1 \"${INSTALL_SCRIPT} & ${STATUS_SCRIPT}\""
   ]
  }
 ],
 "metadata": {
  "kernelspec": {
   "display_name": "Python 3",
   "language": "python",
   "name": "python3"
  },
  "language_info": {
   "codemirror_mode": {
    "name": "ipython",
    "version": 3
   },
   "file_extension": ".py",
   "mimetype": "text/x-python",
   "name": "python",
   "nbconvert_exporter": "python",
   "pygments_lexer": "ipython3",
   "version": "3.7.6"
  }
 },
 "nbformat": 4,
 "nbformat_minor": 4
}
